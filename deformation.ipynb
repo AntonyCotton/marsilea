{
 "cells": [
  {
   "cell_type": "code",
   "execution_count": 1,
   "id": "cc37e164-8c5f-4b16-a428-79f1fe82d6f6",
   "metadata": {},
   "outputs": [],
   "source": [
    "%config InlineBackend.figure_format = 'retina'\n",
    "\n",
    "import numpy as np\n",
    "\n",
    "from hmr import Reloader\n",
    "import heatgraphy as hg\n",
    "\n",
    "hg = Reloader(hg)"
   ]
  },
  {
   "cell_type": "code",
   "execution_count": 2,
   "id": "ccd4e849-2161-4732-9e66-92d29d918a18",
   "metadata": {},
   "outputs": [
    {
     "data": {
      "text/plain": [
       "110"
      ]
     },
     "execution_count": 2,
     "metadata": {},
     "output_type": "execute_result"
    }
   ],
   "source": [
    "10 * 11"
   ]
  },
  {
   "cell_type": "code",
   "execution_count": 3,
   "id": "081f3d3e-3dd6-43ab-8d34-c62e42e48dfa",
   "metadata": {},
   "outputs": [
    {
     "data": {
      "text/plain": [
       "array([[  0,   1,   2,   3,   4,   5,   6,   7,   8,   9,  10],\n",
       "       [ 11,  12,  13,  14,  15,  16,  17,  18,  19,  20,  21],\n",
       "       [ 22,  23,  24,  25,  26,  27,  28,  29,  30,  31,  32],\n",
       "       [ 33,  34,  35,  36,  37,  38,  39,  40,  41,  42,  43],\n",
       "       [ 44,  45,  46,  47,  48,  49,  50,  51,  52,  53,  54],\n",
       "       [ 55,  56,  57,  58,  59,  60,  61,  62,  63,  64,  65],\n",
       "       [ 66,  67,  68,  69,  70,  71,  72,  73,  74,  75,  76],\n",
       "       [ 77,  78,  79,  80,  81,  82,  83,  84,  85,  86,  87],\n",
       "       [ 88,  89,  90,  91,  92,  93,  94,  95,  96,  97,  98],\n",
       "       [ 99, 100, 101, 102, 103, 104, 105, 106, 107, 108, 109]])"
      ]
     },
     "execution_count": 3,
     "metadata": {},
     "output_type": "execute_result"
    }
   ],
   "source": [
    "matrix = np.arange(0, 110, 1).reshape(10, 11)\n",
    "matrix"
   ]
  },
  {
   "cell_type": "code",
   "execution_count": 4,
   "id": "c3f4627e-24b7-49e4-92ee-00fd8497d4eb",
   "metadata": {},
   "outputs": [
    {
     "name": "stdout",
     "output_type": "stream",
     "text": [
      "[array([[ 0,  1,  2],\n",
      "       [11, 12, 13]]), array([[ 3,  4,  5,  6],\n",
      "       [14, 15, 16, 17]]), array([[ 7,  8,  9, 10],\n",
      "       [18, 19, 20, 21]])]\n"
     ]
    },
    {
     "data": {
      "text/plain": [
       "[array([[ 0,  1,  2],\n",
       "        [11, 12, 13]]),\n",
       " array([[ 3,  4,  5,  6],\n",
       "        [14, 15, 16, 17]]),\n",
       " array([[ 7,  8,  9, 10],\n",
       "        [18, 19, 20, 21]])]"
      ]
     },
     "execution_count": 4,
     "metadata": {},
     "output_type": "execute_result"
    }
   ],
   "source": [
    "dm = hg.Deformation(matrix)\n",
    "dm.set_split_col([3, 7])\n",
    "dm.cluster_col()\n",
    "dm.transform_col(np.arange(0, 22, 1).reshape(2, 11))"
   ]
  },
  {
   "cell_type": "code",
   "execution_count": 15,
   "id": "5782e988-c309-451a-bc0e-fd82c8ab5de0",
   "metadata": {},
   "outputs": [
    {
     "name": "stdout",
     "output_type": "stream",
     "text": [
      "split by col\n"
     ]
    },
    {
     "data": {
      "text/plain": [
       "[array([[  0,   1,   2,   3,   4],\n",
       "        [ 11,  12,  13,  14,  15],\n",
       "        [ 22,  23,  24,  25,  26],\n",
       "        [ 33,  34,  35,  36,  37],\n",
       "        [ 44,  45,  46,  47,  48],\n",
       "        [ 55,  56,  57,  58,  59],\n",
       "        [ 66,  67,  68,  69,  70],\n",
       "        [ 77,  78,  79,  80,  81],\n",
       "        [ 88,  89,  90,  91,  92],\n",
       "        [ 99, 100, 101, 102, 103]]),\n",
       " array([[  5,   6,   7,   8,   9,  10],\n",
       "        [ 16,  17,  18,  19,  20,  21],\n",
       "        [ 27,  28,  29,  30,  31,  32],\n",
       "        [ 38,  39,  40,  41,  42,  43],\n",
       "        [ 49,  50,  51,  52,  53,  54],\n",
       "        [ 60,  61,  62,  63,  64,  65],\n",
       "        [ 71,  72,  73,  74,  75,  76],\n",
       "        [ 82,  83,  84,  85,  86,  87],\n",
       "        [ 93,  94,  95,  96,  97,  98],\n",
       "        [104, 105, 106, 107, 108, 109]])]"
      ]
     },
     "execution_count": 15,
     "metadata": {},
     "output_type": "execute_result"
    }
   ],
   "source": [
    "dm = hg.Deformation(matrix)\n",
    "dm.set_split_col([5])\n",
    "dm.cluster_row()\n",
    "dm.transform(matrix)"
   ]
  },
  {
   "cell_type": "code",
   "execution_count": 9,
   "id": "8dc6a9f4-31c3-4f43-968b-6d0360931772",
   "metadata": {},
   "outputs": [
    {
     "data": {
      "text/plain": [
       "[[array([[ 0,  1,  2],\n",
       "         [11, 12, 13],\n",
       "         [22, 23, 24]]),\n",
       "  array([[ 3,  4,  5,  6],\n",
       "         [14, 15, 16, 17],\n",
       "         [25, 26, 27, 28]]),\n",
       "  array([[ 7,  8,  9, 10],\n",
       "         [18, 19, 20, 21],\n",
       "         [29, 30, 31, 32]])],\n",
       " [array([[33, 34, 35],\n",
       "         [44, 45, 46],\n",
       "         [55, 56, 57],\n",
       "         [66, 67, 68]]),\n",
       "  array([[36, 37, 38, 39],\n",
       "         [47, 48, 49, 50],\n",
       "         [58, 59, 60, 61],\n",
       "         [69, 70, 71, 72]]),\n",
       "  array([[40, 41, 42, 43],\n",
       "         [51, 52, 53, 54],\n",
       "         [62, 63, 64, 65],\n",
       "         [73, 74, 75, 76]])],\n",
       " [array([[ 77,  78,  79],\n",
       "         [ 88,  89,  90],\n",
       "         [ 99, 100, 101]]),\n",
       "  array([[ 80,  81,  82,  83],\n",
       "         [ 91,  92,  93,  94],\n",
       "         [102, 103, 104, 105]]),\n",
       "  array([[ 84,  85,  86,  87],\n",
       "         [ 95,  96,  97,  98],\n",
       "         [106, 107, 108, 109]])]]"
      ]
     },
     "execution_count": 9,
     "metadata": {},
     "output_type": "execute_result"
    }
   ],
   "source": [
    "dm = hg.Deformation(matrix)\n",
    "dm.set_split_row([3, 7])\n",
    "dm.set_split_col([3, 7])\n",
    "dm.cluster_row()\n",
    "dm.cluster_col()\n",
    "dm.transform(matrix)"
   ]
  },
  {
   "cell_type": "code",
   "execution_count": null,
   "id": "f72f510e-5104-4499-b6b4-441cbf8e2140",
   "metadata": {},
   "outputs": [],
   "source": []
  }
 ],
 "metadata": {
  "kernelspec": {
   "display_name": "Python 3 (ipykernel)",
   "language": "python",
   "name": "python3"
  },
  "language_info": {
   "codemirror_mode": {
    "name": "ipython",
    "version": 3
   },
   "file_extension": ".py",
   "mimetype": "text/x-python",
   "name": "python",
   "nbconvert_exporter": "python",
   "pygments_lexer": "ipython3",
   "version": "3.10.6"
  }
 },
 "nbformat": 4,
 "nbformat_minor": 5
}
